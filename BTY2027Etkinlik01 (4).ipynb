{
  "nbformat": 4,
  "nbformat_minor": 0,
  "metadata": {
    "colab": {
      "provenance": []
    },
    "kernelspec": {
      "name": "python3",
      "display_name": "Python 3"
    },
    "language_info": {
      "name": "python"
    }
  },
  "cells": [
    {
      "cell_type": "code",
      "execution_count": null,
      "metadata": {
        "id": "EXnHzd9e0DMM"
      },
      "outputs": [],
      "source": []
    },
    {
      "cell_type": "markdown",
      "source": [
        "Python Programlama Dili ile iki değişkenin değerlerinin toplamının, farkının ve çarpımının hesaplarının hesaplanması"
      ],
      "metadata": {
        "id": "_RPMoiAp0GJs"
      }
    },
    {
      "cell_type": "code",
      "source": [
        "birinciSayi = 18\n",
        "ikinciSayi = 11\n",
        "print(birinciSayi,\"+\",ikinciSayi,\"=\",birinciSayi+ikinciSayi)\n",
        "print(birinciSayi,\"-\",ikinciSayi,\"=\",birinciSayi-ikinciSayi)\n",
        "print(birinciSayi,\"x\",ikinciSayi,\"=\",birinciSayi*ikinciSayi)"
      ],
      "metadata": {
        "colab": {
          "base_uri": "https://localhost:8080/"
        },
        "id": "ub6rOYRs0t_H",
        "outputId": "91df2b2f-3133-4cfc-91f2-d7925f641954"
      },
      "execution_count": 1,
      "outputs": [
        {
          "output_type": "stream",
          "name": "stdout",
          "text": [
            "18 + 11 = 29\n",
            "18 - 11 = 7\n",
            "18 x 11 = 198\n"
          ]
        }
      ]
    }
  ]
}